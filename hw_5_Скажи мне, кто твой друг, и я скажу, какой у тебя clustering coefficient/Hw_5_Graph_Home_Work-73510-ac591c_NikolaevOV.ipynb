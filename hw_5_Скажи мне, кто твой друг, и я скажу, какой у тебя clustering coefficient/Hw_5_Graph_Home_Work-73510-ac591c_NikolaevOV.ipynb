{
 "cells": [
  {
   "cell_type": "code",
   "execution_count": 1,
   "metadata": {},
   "outputs": [],
   "source": [
    "import pandas as pd\n",
    "import numpy as np\n",
    "import networkx as nx\n",
    "# !pip install gensim==4.3.0\n",
    "# !pip install smart_open==1.9.0\n",
    "from gensim.models import Word2Vec\n",
    "import os\n",
    "import sys\n",
    "\n",
    "from sklearn.tree import DecisionTreeRegressor\n",
    "from sklearn.metrics import mean_squared_error, median_absolute_error, mean_absolute_percentage_error"
   ]
  },
  {
   "cell_type": "markdown",
   "metadata": {},
   "source": [
    "# Задание - Предсказание уровня экспресси белка"
   ]
  },
  {
   "cell_type": "markdown",
   "metadata": {},
   "source": [
    "<img src='https://www.researchgate.net/publication/313504607/figure/fig3/AS:459880453677066@1486655453033/Protein-protein-interaction-PPI-network-of-DEGs-by-STRING-The-interaction-score-was.png'>\n",
    "\n",
    "\n"
   ]
  },
  {
   "cell_type": "markdown",
   "metadata": {},
   "source": [
    "<div class=\"alert alert-info\">\n",
    "<b>Про биологию</b>\n",
    "    \n",
    "Экспрессия — процесс, в ходе которого наследственная информация от гена (последовательности нуклеотидов ДНК) преобразуется в функциональный продукт — белок. Уровнем экспрессии называют - количество белка, производящегося в этом процессе. Чем выше экспрессия белка, тем большее количество этого белка появляется в клетках человека. \n",
    "    \n",
    "    "
   ]
  },
  {
   "cell_type": "markdown",
   "metadata": {},
   "source": [
    "<div class=\"alert alert-info\">    \n",
    "<b>Важность задачи</b>\n",
    "    \n",
    "Существует множество причин необходимости в знании уровня экспресии белка. Например - это позволяет ученым разрабатывать лекарственные средства и оптимизировать их разработку. Теперь вам предстоит побыть в роли биоинформатика и помочь науке!\n",
    "    \n",
    "</div>"
   ]
  },
  {
   "cell_type": "markdown",
   "metadata": {},
   "source": [
    "\n",
    "<div class=\"alert alert-info\">\n",
    "<b>Про Датасет</b>\n",
    "    \n",
    "Датасет представляет собой граф взаимойдествия белков. Где узлы это белки, взаимодействие между белками это ребро. \n",
    "\n",
    "Для каждого белка известен уровень его экспрессии. Ниже приведен список ребер `edges`. Информация по экспрессии белков, разбитая на `train` и `test`.\n",
    "   \n",
    "    \n",
    "</div>"
   ]
  },
  {
   "cell_type": "code",
   "execution_count": 2,
   "metadata": {},
   "outputs": [
    {
     "data": {
      "text/html": [
       "<div>\n",
       "<style scoped>\n",
       "    .dataframe tbody tr th:only-of-type {\n",
       "        vertical-align: middle;\n",
       "    }\n",
       "\n",
       "    .dataframe tbody tr th {\n",
       "        vertical-align: top;\n",
       "    }\n",
       "\n",
       "    .dataframe thead th {\n",
       "        text-align: right;\n",
       "    }\n",
       "</style>\n",
       "<table border=\"1\" class=\"dataframe\">\n",
       "  <thead>\n",
       "    <tr style=\"text-align: right;\">\n",
       "      <th></th>\n",
       "      <th>node_1</th>\n",
       "      <th>node_2</th>\n",
       "    </tr>\n",
       "  </thead>\n",
       "  <tbody>\n",
       "    <tr>\n",
       "      <th>0</th>\n",
       "      <td>344</td>\n",
       "      <td>50</td>\n",
       "    </tr>\n",
       "    <tr>\n",
       "      <th>1</th>\n",
       "      <td>344</td>\n",
       "      <td>153</td>\n",
       "    </tr>\n",
       "    <tr>\n",
       "      <th>2</th>\n",
       "      <td>344</td>\n",
       "      <td>532</td>\n",
       "    </tr>\n",
       "    <tr>\n",
       "      <th>3</th>\n",
       "      <td>344</td>\n",
       "      <td>679</td>\n",
       "    </tr>\n",
       "    <tr>\n",
       "      <th>4</th>\n",
       "      <td>344</td>\n",
       "      <td>986</td>\n",
       "    </tr>\n",
       "  </tbody>\n",
       "</table>\n",
       "</div>"
      ],
      "text/plain": [
       "   node_1  node_2\n",
       "0     344      50\n",
       "1     344     153\n",
       "2     344     532\n",
       "3     344     679\n",
       "4     344     986"
      ]
     },
     "execution_count": 2,
     "metadata": {},
     "output_type": "execute_result"
    }
   ],
   "source": [
    "#Список ребер графа \n",
    "edges = pd.read_csv(\"https://raw.githubusercontent.com/a-milenkin/Otus_HW_protein_expression/main/edges.csv\", sep=\",\") # Подгрузим данные\n",
    "edges.head()"
   ]
  },
  {
   "cell_type": "code",
   "execution_count": 3,
   "metadata": {},
   "outputs": [
    {
     "data": {
      "text/html": [
       "<div>\n",
       "<style scoped>\n",
       "    .dataframe tbody tr th:only-of-type {\n",
       "        vertical-align: middle;\n",
       "    }\n",
       "\n",
       "    .dataframe tbody tr th {\n",
       "        vertical-align: top;\n",
       "    }\n",
       "\n",
       "    .dataframe thead th {\n",
       "        text-align: right;\n",
       "    }\n",
       "</style>\n",
       "<table border=\"1\" class=\"dataframe\">\n",
       "  <thead>\n",
       "    <tr style=\"text-align: right;\">\n",
       "      <th></th>\n",
       "      <th>target</th>\n",
       "      <th>node</th>\n",
       "    </tr>\n",
       "  </thead>\n",
       "  <tbody>\n",
       "    <tr>\n",
       "      <th>0</th>\n",
       "      <td>0.251968</td>\n",
       "      <td>11142</td>\n",
       "    </tr>\n",
       "    <tr>\n",
       "      <th>1</th>\n",
       "      <td>0.689541</td>\n",
       "      <td>2243</td>\n",
       "    </tr>\n",
       "    <tr>\n",
       "      <th>2</th>\n",
       "      <td>0.678245</td>\n",
       "      <td>15514</td>\n",
       "    </tr>\n",
       "    <tr>\n",
       "      <th>3</th>\n",
       "      <td>0.272500</td>\n",
       "      <td>20944</td>\n",
       "    </tr>\n",
       "    <tr>\n",
       "      <th>4</th>\n",
       "      <td>0.248888</td>\n",
       "      <td>8721</td>\n",
       "    </tr>\n",
       "  </tbody>\n",
       "</table>\n",
       "</div>"
      ],
      "text/plain": [
       "     target   node\n",
       "0  0.251968  11142\n",
       "1  0.689541   2243\n",
       "2  0.678245  15514\n",
       "3  0.272500  20944\n",
       "4  0.248888   8721"
      ]
     },
     "execution_count": 3,
     "metadata": {},
     "output_type": "execute_result"
    }
   ],
   "source": [
    "#Подгрузим тренирочную выборку\n",
    "train = pd.read_csv(\"https://raw.githubusercontent.com/a-milenkin/Otus_HW_protein_expression/main/train.csv\", sep=\",\") # Подгрузим данные\n",
    "train.head()"
   ]
  },
  {
   "cell_type": "code",
   "execution_count": 4,
   "metadata": {},
   "outputs": [
    {
     "data": {
      "text/html": [
       "<div>\n",
       "<style scoped>\n",
       "    .dataframe tbody tr th:only-of-type {\n",
       "        vertical-align: middle;\n",
       "    }\n",
       "\n",
       "    .dataframe tbody tr th {\n",
       "        vertical-align: top;\n",
       "    }\n",
       "\n",
       "    .dataframe thead th {\n",
       "        text-align: right;\n",
       "    }\n",
       "</style>\n",
       "<table border=\"1\" class=\"dataframe\">\n",
       "  <thead>\n",
       "    <tr style=\"text-align: right;\">\n",
       "      <th></th>\n",
       "      <th>target</th>\n",
       "      <th>node</th>\n",
       "    </tr>\n",
       "  </thead>\n",
       "  <tbody>\n",
       "    <tr>\n",
       "      <th>0</th>\n",
       "      <td>0.279231</td>\n",
       "      <td>817</td>\n",
       "    </tr>\n",
       "    <tr>\n",
       "      <th>1</th>\n",
       "      <td>0.380795</td>\n",
       "      <td>9574</td>\n",
       "    </tr>\n",
       "    <tr>\n",
       "      <th>2</th>\n",
       "      <td>0.686527</td>\n",
       "      <td>1607</td>\n",
       "    </tr>\n",
       "    <tr>\n",
       "      <th>3</th>\n",
       "      <td>0.303594</td>\n",
       "      <td>4782</td>\n",
       "    </tr>\n",
       "    <tr>\n",
       "      <th>4</th>\n",
       "      <td>0.367374</td>\n",
       "      <td>24125</td>\n",
       "    </tr>\n",
       "  </tbody>\n",
       "</table>\n",
       "</div>"
      ],
      "text/plain": [
       "     target   node\n",
       "0  0.279231    817\n",
       "1  0.380795   9574\n",
       "2  0.686527   1607\n",
       "3  0.303594   4782\n",
       "4  0.367374  24125"
      ]
     },
     "execution_count": 4,
     "metadata": {},
     "output_type": "execute_result"
    }
   ],
   "source": [
    "# Подгрузим отложенную выборку для валидации\n",
    "test = pd.read_csv(\"https://raw.githubusercontent.com/a-milenkin/Otus_HW_protein_expression/main/test.csv\", sep=\",\")\n",
    "test.head()"
   ]
  },
  {
   "cell_type": "markdown",
   "metadata": {},
   "source": [
    "<div class=\"alert alert-info\">\n",
    "<b>Про Задачу</b>\n",
    "    \n",
    "Вам предлагается предсказать экспрессию белков (`target`) по приведенным данным для отложенной выборки. Ответы в отложенной выборке `test` даны вам для самостоятельной валидации.\n",
    "\n",
    "\n",
    "    \n",
    "   \n",
    "    "
   ]
  },
  {
   "cell_type": "markdown",
   "metadata": {},
   "source": [
    "<div class=\"alert alert-info\">\n",
    "<b>Замечание и комментарии</b>\n",
    "    \n",
    "    \n",
    "\n",
    "По ряду причин датасет был упрощен так, чтобы выполнялись следующие условия:\n",
    "* у графа одна компонента связанности. \n",
    "* удалены слишком крупные хабы\n",
    "* плотность связей графа уменьшена\n",
    "* решить задачу можно классическими ML подходами\n",
    "    \n",
    "   "
   ]
  },
  {
   "cell_type": "markdown",
   "metadata": {},
   "source": [
    "<div class=\"alert alert-info\">\n",
    "<b>Оценка результатов</b>\n",
    "    \n",
    "\n",
    "\n",
    "Оценка точности модели будет оцениваться по метрике MSE на отложенной выборке `test`\n",
    "        \n",
    "</div>"
   ]
  },
  {
   "cell_type": "markdown",
   "metadata": {},
   "source": [
    "<div class=\"alert alert-info\">\n",
    "<b>Автор задачи</b>\n",
    "\n",
    "По всем дополнительным вопросами писать Александру Миленькину\n",
    "* Телеграмм: Alerin75infskin\n",
    "* Почта: milenkin.aa@phystech.edu\n",
    "        \n",
    "</div>"
   ]
  },
  {
   "cell_type": "code",
   "execution_count": 5,
   "metadata": {},
   "outputs": [],
   "source": [
    "g = nx.from_pandas_edgelist(edges, \"node_1\", \"node_2\", create_using=nx.Graph())"
   ]
  },
  {
   "cell_type": "code",
   "execution_count": 6,
   "metadata": {},
   "outputs": [],
   "source": [
    "# nx.draw_networkx(g) # отрисовка оч долгая"
   ]
  },
  {
   "cell_type": "markdown",
   "metadata": {},
   "source": [
    "# Feature generation\n",
    "## Показатели нодов  \n",
    "### Центральность (centrality) - степень важности вершины\n",
    "центральным можно считать того, кто связан с наибольшим числом членов группы. DС - это отношение количества связей определенного узла (в нашем случае журнала) к общему количеству других узлов."
   ]
  },
  {
   "cell_type": "code",
   "execution_count": 7,
   "metadata": {},
   "outputs": [
    {
     "name": "stdout",
     "output_type": "stream",
     "text": [
      "CPU times: total: 15.6 ms\n",
      "Wall time: 9 ms\n"
     ]
    }
   ],
   "source": [
    "%%time\n",
    "degree_centrality = nx.degree_centrality(g)"
   ]
  },
  {
   "cell_type": "markdown",
   "metadata": {},
   "source": [
    "### Betweenness centrality (Степень посредничества)\n",
    "позволяет ранжировать вершины в графе, то есть оценить их важность с точки зрения количества проходящих через них путей."
   ]
  },
  {
   "cell_type": "code",
   "execution_count": 8,
   "metadata": {},
   "outputs": [
    {
     "name": "stdout",
     "output_type": "stream",
     "text": [
      "CPU times: total: 7.41 s\n",
      "Wall time: 7.4 s\n"
     ]
    }
   ],
   "source": [
    "%%time\n",
    "betweenness_centrality = nx.betweenness_centrality(g, k=20)"
   ]
  },
  {
   "cell_type": "markdown",
   "metadata": {},
   "source": [
    "### Closeness centrality (Степень близости)\n",
    "Центральность по близости выражает, насколько близко узел расположен к остальным узлам сети. "
   ]
  },
  {
   "cell_type": "code",
   "execution_count": 9,
   "metadata": {},
   "outputs": [],
   "source": [
    "# Расчет слишком долгий\n",
    "\n",
    "# %%time\n",
    "# closeness_centrality = nx.closeness_centrality(g)"
   ]
  },
  {
   "cell_type": "markdown",
   "metadata": {},
   "source": [
    "## Фитчи из топологии\n",
    "### Word2Vec"
   ]
  },
  {
   "cell_type": "code",
   "execution_count": 10,
   "metadata": {},
   "outputs": [
    {
     "name": "stderr",
     "output_type": "stream",
     "text": [
      "fatal: destination path 'stellargraph' already exists and is not an empty directory.\n"
     ]
    }
   ],
   "source": [
    "!git clone https://github.com/stellargraph/stellargraph.git\n",
    "\n",
    "cwd = os.getcwd() \n",
    "sys.path.append(os.path.join(cwd, 'stellargraph'))\n",
    "# from stellargraph import StellarGraph\n",
    "import stellargraph"
   ]
  },
  {
   "cell_type": "code",
   "execution_count": 11,
   "metadata": {},
   "outputs": [],
   "source": [
    "g_stellar = stellargraph.StellarGraph.from_networkx(g)"
   ]
  },
  {
   "cell_type": "code",
   "execution_count": 12,
   "metadata": {},
   "outputs": [],
   "source": [
    "rw = stellargraph.data.BiasedRandomWalk(g_stellar)"
   ]
  },
  {
   "cell_type": "code",
   "execution_count": 13,
   "metadata": {},
   "outputs": [
    {
     "name": "stdout",
     "output_type": "stream",
     "text": [
      "CPU times: total: 41.5 s\n",
      "Wall time: 41.6 s\n"
     ]
    }
   ],
   "source": [
    "%%time\n",
    "walks = rw.run(nodes=list(g_stellar.nodes()), length=10, n=3, p=0.4)"
   ]
  },
  {
   "cell_type": "code",
   "execution_count": 14,
   "metadata": {},
   "outputs": [
    {
     "name": "stdout",
     "output_type": "stream",
     "text": [
      "30000\n"
     ]
    }
   ],
   "source": [
    "print(len(walks))"
   ]
  },
  {
   "cell_type": "code",
   "execution_count": 15,
   "metadata": {},
   "outputs": [
    {
     "name": "stdout",
     "output_type": "stream",
     "text": [
      "['344', '1300', '24', '13891', '24660', '2', '4734', '544', '8516', '19945']\n",
      "['344', '8271', '100', '945', '100', '44', '181', '5466', '2518', '9960']\n",
      "['344', '21679', '9411', '16804', '2661', '12346', '23462', '8349', '20051', '7929']\n",
      "['50', '20377', '15292', '352', '13288', '4547', '26232', '388', '24617', '1507']\n",
      "['50', '456', '15562', '2392', '15589', '26681', '452', '19189', '25022', '3911']\n",
      "['50', '1188', '2913', '6906', '11097', '27802', '432', '24669', '508', '23072']\n",
      "['153', '20417', '11173', '14', '14903', '1318', '17679', '18968', '278', '5832']\n",
      "['153', '440', '836', '505', '15298', '21433', '241', '3170', '21779', '7616']\n",
      "['153', '2488', '2849', '1206', '27479', '19671', '768', '10993', '562', '2030']\n",
      "['532', '5391', '3406', '13417', '120', '15804', '27073', '2583', '6896', '22960']\n"
     ]
    }
   ],
   "source": [
    "# Конвертируем список узлов в список строк:\n",
    "str_walks = [[str(a) for a in b] for b in walks]\n",
    "for sw in str_walks[:10]:\n",
    "    print(sw)"
   ]
  },
  {
   "cell_type": "code",
   "execution_count": 16,
   "metadata": {},
   "outputs": [],
   "source": [
    "model = Word2Vec(str_walks, vector_size=50, workers=4, min_count=3)"
   ]
  },
  {
   "cell_type": "code",
   "execution_count": 17,
   "metadata": {},
   "outputs": [
    {
     "data": {
      "text/plain": [
       "array([-2.3279732e-01,  2.2022559e-03,  8.2949013e-02,  1.0683715e-01,\n",
       "       -3.2948771e-01, -3.1234956e-01,  5.6445718e-01,  8.8343304e-01,\n",
       "       -9.6947592e-01,  5.2672264e-04, -1.7715904e-01, -7.9251224e-01,\n",
       "       -2.9377037e-01,  5.6476128e-01, -2.9942995e-01, -8.6892180e-02,\n",
       "        2.7951896e-01, -4.5116955e-01, -3.4779409e-01, -5.8686954e-01,\n",
       "        2.7442357e-01,  6.4704669e-01,  1.2447059e+00, -1.7551093e-01,\n",
       "        3.9187875e-01,  5.9922606e-01, -3.3549303e-01, -2.0645170e-01,\n",
       "       -8.7135786e-01,  1.0058331e-01,  2.3729806e-01,  8.6324893e-02,\n",
       "       -3.0081478e-01,  8.9915723e-02, -2.6642364e-01,  3.3684826e-01,\n",
       "        1.6625388e-01,  6.1125819e-02,  4.1508964e-01, -6.7379338e-01,\n",
       "        4.0671805e-01, -4.8334181e-01, -1.2951881e-01,  1.9625211e-01,\n",
       "        1.6038163e+00, -3.4384787e-02, -3.6639738e-01, -5.0618529e-01,\n",
       "        3.5105532e-01,  7.7846366e-01], dtype=float32)"
      ]
     },
     "execution_count": 17,
     "metadata": {},
     "output_type": "execute_result"
    }
   ],
   "source": [
    "# Вот так выглядят наши эмбеддинги:\n",
    "model.wv[g_stellar.nodes()[0]]"
   ]
  },
  {
   "cell_type": "markdown",
   "metadata": {},
   "source": [
    "### Собираем фитчи в один датафрейм"
   ]
  },
  {
   "cell_type": "code",
   "execution_count": 18,
   "metadata": {},
   "outputs": [
    {
     "data": {
      "text/html": [
       "<div>\n",
       "<style scoped>\n",
       "    .dataframe tbody tr th:only-of-type {\n",
       "        vertical-align: middle;\n",
       "    }\n",
       "\n",
       "    .dataframe tbody tr th {\n",
       "        vertical-align: top;\n",
       "    }\n",
       "\n",
       "    .dataframe thead th {\n",
       "        text-align: right;\n",
       "    }\n",
       "</style>\n",
       "<table border=\"1\" class=\"dataframe\">\n",
       "  <thead>\n",
       "    <tr style=\"text-align: right;\">\n",
       "      <th></th>\n",
       "      <th>0</th>\n",
       "      <th>1</th>\n",
       "      <th>2</th>\n",
       "      <th>3</th>\n",
       "      <th>4</th>\n",
       "      <th>5</th>\n",
       "      <th>6</th>\n",
       "      <th>7</th>\n",
       "      <th>8</th>\n",
       "      <th>9</th>\n",
       "      <th>...</th>\n",
       "      <th>41</th>\n",
       "      <th>42</th>\n",
       "      <th>43</th>\n",
       "      <th>44</th>\n",
       "      <th>45</th>\n",
       "      <th>46</th>\n",
       "      <th>47</th>\n",
       "      <th>48</th>\n",
       "      <th>49</th>\n",
       "      <th>node</th>\n",
       "    </tr>\n",
       "  </thead>\n",
       "  <tbody>\n",
       "    <tr>\n",
       "      <th>0</th>\n",
       "      <td>-0.116137</td>\n",
       "      <td>0.004499</td>\n",
       "      <td>0.037470</td>\n",
       "      <td>0.056035</td>\n",
       "      <td>-0.162583</td>\n",
       "      <td>-0.157272</td>\n",
       "      <td>0.327033</td>\n",
       "      <td>0.484222</td>\n",
       "      <td>-0.555073</td>\n",
       "      <td>-0.002476</td>\n",
       "      <td>...</td>\n",
       "      <td>-0.245420</td>\n",
       "      <td>-0.045952</td>\n",
       "      <td>0.120820</td>\n",
       "      <td>0.883743</td>\n",
       "      <td>-0.026473</td>\n",
       "      <td>-0.215686</td>\n",
       "      <td>-0.286399</td>\n",
       "      <td>0.167177</td>\n",
       "      <td>0.429504</td>\n",
       "      <td>344</td>\n",
       "    </tr>\n",
       "    <tr>\n",
       "      <th>1</th>\n",
       "      <td>-0.205691</td>\n",
       "      <td>-0.009839</td>\n",
       "      <td>0.072909</td>\n",
       "      <td>0.066616</td>\n",
       "      <td>-0.257985</td>\n",
       "      <td>-0.281273</td>\n",
       "      <td>0.467752</td>\n",
       "      <td>0.769576</td>\n",
       "      <td>-0.842172</td>\n",
       "      <td>-0.016319</td>\n",
       "      <td>...</td>\n",
       "      <td>-0.395060</td>\n",
       "      <td>-0.099798</td>\n",
       "      <td>0.182876</td>\n",
       "      <td>1.345719</td>\n",
       "      <td>-0.003918</td>\n",
       "      <td>-0.298413</td>\n",
       "      <td>-0.437227</td>\n",
       "      <td>0.295602</td>\n",
       "      <td>0.653659</td>\n",
       "      <td>50</td>\n",
       "    </tr>\n",
       "    <tr>\n",
       "      <th>2</th>\n",
       "      <td>-0.252251</td>\n",
       "      <td>0.010676</td>\n",
       "      <td>0.076797</td>\n",
       "      <td>0.099302</td>\n",
       "      <td>-0.375454</td>\n",
       "      <td>-0.351671</td>\n",
       "      <td>0.686118</td>\n",
       "      <td>1.080516</td>\n",
       "      <td>-1.132174</td>\n",
       "      <td>-0.041633</td>\n",
       "      <td>...</td>\n",
       "      <td>-0.556308</td>\n",
       "      <td>-0.126104</td>\n",
       "      <td>0.228847</td>\n",
       "      <td>1.901903</td>\n",
       "      <td>-0.015765</td>\n",
       "      <td>-0.429257</td>\n",
       "      <td>-0.626690</td>\n",
       "      <td>0.397254</td>\n",
       "      <td>0.878924</td>\n",
       "      <td>153</td>\n",
       "    </tr>\n",
       "    <tr>\n",
       "      <th>3</th>\n",
       "      <td>-0.127534</td>\n",
       "      <td>-0.005729</td>\n",
       "      <td>0.055268</td>\n",
       "      <td>0.058820</td>\n",
       "      <td>-0.153877</td>\n",
       "      <td>-0.155063</td>\n",
       "      <td>0.276997</td>\n",
       "      <td>0.430063</td>\n",
       "      <td>-0.494674</td>\n",
       "      <td>0.002302</td>\n",
       "      <td>...</td>\n",
       "      <td>-0.253034</td>\n",
       "      <td>-0.068615</td>\n",
       "      <td>0.122414</td>\n",
       "      <td>0.793959</td>\n",
       "      <td>-0.009940</td>\n",
       "      <td>-0.175189</td>\n",
       "      <td>-0.271280</td>\n",
       "      <td>0.160464</td>\n",
       "      <td>0.378234</td>\n",
       "      <td>532</td>\n",
       "    </tr>\n",
       "    <tr>\n",
       "      <th>4</th>\n",
       "      <td>-0.185900</td>\n",
       "      <td>0.016835</td>\n",
       "      <td>0.078228</td>\n",
       "      <td>0.093165</td>\n",
       "      <td>-0.280630</td>\n",
       "      <td>-0.238812</td>\n",
       "      <td>0.495225</td>\n",
       "      <td>0.759293</td>\n",
       "      <td>-0.837643</td>\n",
       "      <td>-0.002351</td>\n",
       "      <td>...</td>\n",
       "      <td>-0.367155</td>\n",
       "      <td>-0.101637</td>\n",
       "      <td>0.170954</td>\n",
       "      <td>1.345756</td>\n",
       "      <td>-0.012862</td>\n",
       "      <td>-0.321034</td>\n",
       "      <td>-0.412941</td>\n",
       "      <td>0.271825</td>\n",
       "      <td>0.624616</td>\n",
       "      <td>679</td>\n",
       "    </tr>\n",
       "    <tr>\n",
       "      <th>...</th>\n",
       "      <td>...</td>\n",
       "      <td>...</td>\n",
       "      <td>...</td>\n",
       "      <td>...</td>\n",
       "      <td>...</td>\n",
       "      <td>...</td>\n",
       "      <td>...</td>\n",
       "      <td>...</td>\n",
       "      <td>...</td>\n",
       "      <td>...</td>\n",
       "      <td>...</td>\n",
       "      <td>...</td>\n",
       "      <td>...</td>\n",
       "      <td>...</td>\n",
       "      <td>...</td>\n",
       "      <td>...</td>\n",
       "      <td>...</td>\n",
       "      <td>...</td>\n",
       "      <td>...</td>\n",
       "      <td>...</td>\n",
       "      <td>...</td>\n",
       "    </tr>\n",
       "    <tr>\n",
       "      <th>9995</th>\n",
       "      <td>-0.084134</td>\n",
       "      <td>0.009743</td>\n",
       "      <td>0.034356</td>\n",
       "      <td>0.026880</td>\n",
       "      <td>-0.079086</td>\n",
       "      <td>-0.087609</td>\n",
       "      <td>0.162613</td>\n",
       "      <td>0.252612</td>\n",
       "      <td>-0.292554</td>\n",
       "      <td>0.000389</td>\n",
       "      <td>...</td>\n",
       "      <td>-0.125829</td>\n",
       "      <td>-0.011673</td>\n",
       "      <td>0.083575</td>\n",
       "      <td>0.494027</td>\n",
       "      <td>-0.010611</td>\n",
       "      <td>-0.119213</td>\n",
       "      <td>-0.146132</td>\n",
       "      <td>0.086891</td>\n",
       "      <td>0.245972</td>\n",
       "      <td>19783</td>\n",
       "    </tr>\n",
       "    <tr>\n",
       "      <th>9996</th>\n",
       "      <td>-0.040230</td>\n",
       "      <td>-0.008888</td>\n",
       "      <td>0.025553</td>\n",
       "      <td>0.007989</td>\n",
       "      <td>-0.043686</td>\n",
       "      <td>-0.032440</td>\n",
       "      <td>0.068984</td>\n",
       "      <td>0.139844</td>\n",
       "      <td>-0.143229</td>\n",
       "      <td>-0.008378</td>\n",
       "      <td>...</td>\n",
       "      <td>-0.089659</td>\n",
       "      <td>-0.021681</td>\n",
       "      <td>0.025719</td>\n",
       "      <td>0.258108</td>\n",
       "      <td>-0.013732</td>\n",
       "      <td>-0.078491</td>\n",
       "      <td>-0.096725</td>\n",
       "      <td>0.057965</td>\n",
       "      <td>0.129235</td>\n",
       "      <td>17471</td>\n",
       "    </tr>\n",
       "    <tr>\n",
       "      <th>9997</th>\n",
       "      <td>-0.037533</td>\n",
       "      <td>-0.011593</td>\n",
       "      <td>-0.001954</td>\n",
       "      <td>0.024347</td>\n",
       "      <td>-0.057215</td>\n",
       "      <td>-0.057020</td>\n",
       "      <td>0.096433</td>\n",
       "      <td>0.132021</td>\n",
       "      <td>-0.165587</td>\n",
       "      <td>-0.001471</td>\n",
       "      <td>...</td>\n",
       "      <td>-0.092375</td>\n",
       "      <td>-0.026950</td>\n",
       "      <td>0.034231</td>\n",
       "      <td>0.267395</td>\n",
       "      <td>0.016119</td>\n",
       "      <td>-0.062557</td>\n",
       "      <td>-0.088470</td>\n",
       "      <td>0.069760</td>\n",
       "      <td>0.150359</td>\n",
       "      <td>3167</td>\n",
       "    </tr>\n",
       "    <tr>\n",
       "      <th>9998</th>\n",
       "      <td>-0.050234</td>\n",
       "      <td>-0.004495</td>\n",
       "      <td>0.025407</td>\n",
       "      <td>0.033631</td>\n",
       "      <td>-0.038754</td>\n",
       "      <td>-0.062975</td>\n",
       "      <td>0.089112</td>\n",
       "      <td>0.147673</td>\n",
       "      <td>-0.156655</td>\n",
       "      <td>-0.017144</td>\n",
       "      <td>...</td>\n",
       "      <td>-0.063009</td>\n",
       "      <td>-0.021668</td>\n",
       "      <td>0.015164</td>\n",
       "      <td>0.226488</td>\n",
       "      <td>-0.008969</td>\n",
       "      <td>-0.052724</td>\n",
       "      <td>-0.077009</td>\n",
       "      <td>0.069597</td>\n",
       "      <td>0.100324</td>\n",
       "      <td>12609</td>\n",
       "    </tr>\n",
       "    <tr>\n",
       "      <th>9999</th>\n",
       "      <td>-0.034908</td>\n",
       "      <td>0.015901</td>\n",
       "      <td>0.007562</td>\n",
       "      <td>0.001891</td>\n",
       "      <td>-0.075609</td>\n",
       "      <td>-0.051485</td>\n",
       "      <td>0.117393</td>\n",
       "      <td>0.163740</td>\n",
       "      <td>-0.201149</td>\n",
       "      <td>0.016836</td>\n",
       "      <td>...</td>\n",
       "      <td>-0.089254</td>\n",
       "      <td>-0.019986</td>\n",
       "      <td>0.036734</td>\n",
       "      <td>0.326657</td>\n",
       "      <td>-0.022174</td>\n",
       "      <td>-0.077657</td>\n",
       "      <td>-0.101349</td>\n",
       "      <td>0.052388</td>\n",
       "      <td>0.152823</td>\n",
       "      <td>23014</td>\n",
       "    </tr>\n",
       "  </tbody>\n",
       "</table>\n",
       "<p>10000 rows × 51 columns</p>\n",
       "</div>"
      ],
      "text/plain": [
       "             0         1         2         3         4         5         6  \\\n",
       "0    -0.116137  0.004499  0.037470  0.056035 -0.162583 -0.157272  0.327033   \n",
       "1    -0.205691 -0.009839  0.072909  0.066616 -0.257985 -0.281273  0.467752   \n",
       "2    -0.252251  0.010676  0.076797  0.099302 -0.375454 -0.351671  0.686118   \n",
       "3    -0.127534 -0.005729  0.055268  0.058820 -0.153877 -0.155063  0.276997   \n",
       "4    -0.185900  0.016835  0.078228  0.093165 -0.280630 -0.238812  0.495225   \n",
       "...        ...       ...       ...       ...       ...       ...       ...   \n",
       "9995 -0.084134  0.009743  0.034356  0.026880 -0.079086 -0.087609  0.162613   \n",
       "9996 -0.040230 -0.008888  0.025553  0.007989 -0.043686 -0.032440  0.068984   \n",
       "9997 -0.037533 -0.011593 -0.001954  0.024347 -0.057215 -0.057020  0.096433   \n",
       "9998 -0.050234 -0.004495  0.025407  0.033631 -0.038754 -0.062975  0.089112   \n",
       "9999 -0.034908  0.015901  0.007562  0.001891 -0.075609 -0.051485  0.117393   \n",
       "\n",
       "             7         8         9  ...        41        42        43  \\\n",
       "0     0.484222 -0.555073 -0.002476  ... -0.245420 -0.045952  0.120820   \n",
       "1     0.769576 -0.842172 -0.016319  ... -0.395060 -0.099798  0.182876   \n",
       "2     1.080516 -1.132174 -0.041633  ... -0.556308 -0.126104  0.228847   \n",
       "3     0.430063 -0.494674  0.002302  ... -0.253034 -0.068615  0.122414   \n",
       "4     0.759293 -0.837643 -0.002351  ... -0.367155 -0.101637  0.170954   \n",
       "...        ...       ...       ...  ...       ...       ...       ...   \n",
       "9995  0.252612 -0.292554  0.000389  ... -0.125829 -0.011673  0.083575   \n",
       "9996  0.139844 -0.143229 -0.008378  ... -0.089659 -0.021681  0.025719   \n",
       "9997  0.132021 -0.165587 -0.001471  ... -0.092375 -0.026950  0.034231   \n",
       "9998  0.147673 -0.156655 -0.017144  ... -0.063009 -0.021668  0.015164   \n",
       "9999  0.163740 -0.201149  0.016836  ... -0.089254 -0.019986  0.036734   \n",
       "\n",
       "            44        45        46        47        48        49   node  \n",
       "0     0.883743 -0.026473 -0.215686 -0.286399  0.167177  0.429504    344  \n",
       "1     1.345719 -0.003918 -0.298413 -0.437227  0.295602  0.653659     50  \n",
       "2     1.901903 -0.015765 -0.429257 -0.626690  0.397254  0.878924    153  \n",
       "3     0.793959 -0.009940 -0.175189 -0.271280  0.160464  0.378234    532  \n",
       "4     1.345756 -0.012862 -0.321034 -0.412941  0.271825  0.624616    679  \n",
       "...        ...       ...       ...       ...       ...       ...    ...  \n",
       "9995  0.494027 -0.010611 -0.119213 -0.146132  0.086891  0.245972  19783  \n",
       "9996  0.258108 -0.013732 -0.078491 -0.096725  0.057965  0.129235  17471  \n",
       "9997  0.267395  0.016119 -0.062557 -0.088470  0.069760  0.150359   3167  \n",
       "9998  0.226488 -0.008969 -0.052724 -0.077009  0.069597  0.100324  12609  \n",
       "9999  0.326657 -0.022174 -0.077657 -0.101349  0.052388  0.152823  23014  \n",
       "\n",
       "[10000 rows x 51 columns]"
      ]
     },
     "execution_count": 18,
     "metadata": {},
     "output_type": "execute_result"
    }
   ],
   "source": [
    "data0 = pd.DataFrame(np.stack([model.wv[str(i)] for i in g_stellar.nodes()]))\n",
    "data0['node'] = g_stellar.nodes()\n",
    "data0"
   ]
  },
  {
   "cell_type": "code",
   "execution_count": 19,
   "metadata": {},
   "outputs": [],
   "source": [
    "data1 = pd.DataFrame(data = degree_centrality.values(), index=degree_centrality.keys(), columns=[\"degree_centrality\"]).reset_index().rename(columns={'index': 'node'})\n",
    "data2 = pd.DataFrame(data = degree_centrality.values(), index=degree_centrality.keys(), columns=[\"Closeness_centrality\"]).reset_index().rename(columns={'index': 'node'})"
   ]
  },
  {
   "cell_type": "code",
   "execution_count": 20,
   "metadata": {},
   "outputs": [],
   "source": [
    "data = data0.merge(data1, on=['node']).merge(data2, on=['node'])"
   ]
  },
  {
   "cell_type": "code",
   "execution_count": 21,
   "metadata": {},
   "outputs": [],
   "source": [
    "data.columns = data.columns.astype(str)"
   ]
  },
  {
   "cell_type": "markdown",
   "metadata": {},
   "source": [
    "### train test split"
   ]
  },
  {
   "cell_type": "code",
   "execution_count": 22,
   "metadata": {},
   "outputs": [],
   "source": [
    "train_df, test_df = train.merge(data, on=['node']), test.merge(data, on=['node'])\n",
    "X_train, y_train, X_test, y_test = train_df.drop('target', axis=1), train_df['target'], test_df.drop('target', axis=1), test_df['target']"
   ]
  },
  {
   "cell_type": "markdown",
   "metadata": {
    "tags": []
   },
   "source": [
    "### ML on tabular data"
   ]
  },
  {
   "cell_type": "code",
   "execution_count": 23,
   "metadata": {},
   "outputs": [],
   "source": [
    "def f_metrics(y_train, y_train_pred, y_test, y_test_pred) -> pd.DataFrame:\n",
    "    MAE_train, MAE_test = median_absolute_error(y_train, y_train_pred), median_absolute_error(y_test, y_test_pred) # mae\n",
    "    MSE_train, MSE_test = mean_squared_error(y_train, y_train_pred, squared=False), mean_squared_error(y_test, y_test_pred,  squared=True) # MSE\n",
    "    MAPE_train, MAPE_test = mean_absolute_percentage_error(y_train, y_train_pred), mean_absolute_percentage_error(y_test, y_test_pred) # MAPE\n",
    "    return(pd.DataFrame({'MAE':[MAE_train, MAE_test], 'MSE':[MSE_train,MSE_test], 'MAPE':[MAPE_train,MAPE_test]}, index=['Train','Test']))"
   ]
  },
  {
   "cell_type": "code",
   "execution_count": 24,
   "metadata": {},
   "outputs": [
    {
     "data": {
      "text/html": [
       "<style>#sk-container-id-1 {color: black;background-color: white;}#sk-container-id-1 pre{padding: 0;}#sk-container-id-1 div.sk-toggleable {background-color: white;}#sk-container-id-1 label.sk-toggleable__label {cursor: pointer;display: block;width: 100%;margin-bottom: 0;padding: 0.3em;box-sizing: border-box;text-align: center;}#sk-container-id-1 label.sk-toggleable__label-arrow:before {content: \"▸\";float: left;margin-right: 0.25em;color: #696969;}#sk-container-id-1 label.sk-toggleable__label-arrow:hover:before {color: black;}#sk-container-id-1 div.sk-estimator:hover label.sk-toggleable__label-arrow:before {color: black;}#sk-container-id-1 div.sk-toggleable__content {max-height: 0;max-width: 0;overflow: hidden;text-align: left;background-color: #f0f8ff;}#sk-container-id-1 div.sk-toggleable__content pre {margin: 0.2em;color: black;border-radius: 0.25em;background-color: #f0f8ff;}#sk-container-id-1 input.sk-toggleable__control:checked~div.sk-toggleable__content {max-height: 200px;max-width: 100%;overflow: auto;}#sk-container-id-1 input.sk-toggleable__control:checked~label.sk-toggleable__label-arrow:before {content: \"▾\";}#sk-container-id-1 div.sk-estimator input.sk-toggleable__control:checked~label.sk-toggleable__label {background-color: #d4ebff;}#sk-container-id-1 div.sk-label input.sk-toggleable__control:checked~label.sk-toggleable__label {background-color: #d4ebff;}#sk-container-id-1 input.sk-hidden--visually {border: 0;clip: rect(1px 1px 1px 1px);clip: rect(1px, 1px, 1px, 1px);height: 1px;margin: -1px;overflow: hidden;padding: 0;position: absolute;width: 1px;}#sk-container-id-1 div.sk-estimator {font-family: monospace;background-color: #f0f8ff;border: 1px dotted black;border-radius: 0.25em;box-sizing: border-box;margin-bottom: 0.5em;}#sk-container-id-1 div.sk-estimator:hover {background-color: #d4ebff;}#sk-container-id-1 div.sk-parallel-item::after {content: \"\";width: 100%;border-bottom: 1px solid gray;flex-grow: 1;}#sk-container-id-1 div.sk-label:hover label.sk-toggleable__label {background-color: #d4ebff;}#sk-container-id-1 div.sk-serial::before {content: \"\";position: absolute;border-left: 1px solid gray;box-sizing: border-box;top: 0;bottom: 0;left: 50%;z-index: 0;}#sk-container-id-1 div.sk-serial {display: flex;flex-direction: column;align-items: center;background-color: white;padding-right: 0.2em;padding-left: 0.2em;position: relative;}#sk-container-id-1 div.sk-item {position: relative;z-index: 1;}#sk-container-id-1 div.sk-parallel {display: flex;align-items: stretch;justify-content: center;background-color: white;position: relative;}#sk-container-id-1 div.sk-item::before, #sk-container-id-1 div.sk-parallel-item::before {content: \"\";position: absolute;border-left: 1px solid gray;box-sizing: border-box;top: 0;bottom: 0;left: 50%;z-index: -1;}#sk-container-id-1 div.sk-parallel-item {display: flex;flex-direction: column;z-index: 1;position: relative;background-color: white;}#sk-container-id-1 div.sk-parallel-item:first-child::after {align-self: flex-end;width: 50%;}#sk-container-id-1 div.sk-parallel-item:last-child::after {align-self: flex-start;width: 50%;}#sk-container-id-1 div.sk-parallel-item:only-child::after {width: 0;}#sk-container-id-1 div.sk-dashed-wrapped {border: 1px dashed gray;margin: 0 0.4em 0.5em 0.4em;box-sizing: border-box;padding-bottom: 0.4em;background-color: white;}#sk-container-id-1 div.sk-label label {font-family: monospace;font-weight: bold;display: inline-block;line-height: 1.2em;}#sk-container-id-1 div.sk-label-container {text-align: center;}#sk-container-id-1 div.sk-container {/* jupyter's `normalize.less` sets `[hidden] { display: none; }` but bootstrap.min.css set `[hidden] { display: none !important; }` so we also need the `!important` here to be able to override the default hidden behavior on the sphinx rendered scikit-learn.org. See: https://github.com/scikit-learn/scikit-learn/issues/21755 */display: inline-block !important;position: relative;}#sk-container-id-1 div.sk-text-repr-fallback {display: none;}</style><div id=\"sk-container-id-1\" class=\"sk-top-container\"><div class=\"sk-text-repr-fallback\"><pre>DecisionTreeRegressor(min_samples_split=4, random_state=42)</pre><b>In a Jupyter environment, please rerun this cell to show the HTML representation or trust the notebook. <br />On GitHub, the HTML representation is unable to render, please try loading this page with nbviewer.org.</b></div><div class=\"sk-container\" hidden><div class=\"sk-item\"><div class=\"sk-estimator sk-toggleable\"><input class=\"sk-toggleable__control sk-hidden--visually\" id=\"sk-estimator-id-1\" type=\"checkbox\" checked><label for=\"sk-estimator-id-1\" class=\"sk-toggleable__label sk-toggleable__label-arrow\">DecisionTreeRegressor</label><div class=\"sk-toggleable__content\"><pre>DecisionTreeRegressor(min_samples_split=4, random_state=42)</pre></div></div></div></div></div>"
      ],
      "text/plain": [
       "DecisionTreeRegressor(min_samples_split=4, random_state=42)"
      ]
     },
     "execution_count": 24,
     "metadata": {},
     "output_type": "execute_result"
    }
   ],
   "source": [
    "regressor = DecisionTreeRegressor(min_samples_split=4, random_state=42)\n",
    "regressor.fit(X_train, y_train)"
   ]
  },
  {
   "cell_type": "code",
   "execution_count": 25,
   "metadata": {
    "tags": []
   },
   "outputs": [],
   "source": [
    "# extracted_MSEs = regressor.tree_.impurity # The Hidden magic is HERE\n",
    "\n",
    "# for idx, MSE in enumerate(regressor.tree_.impurity):\n",
    "#     print(\"Node {} has MSE {}\".format(idx, MSE))"
   ]
  },
  {
   "cell_type": "code",
   "execution_count": 26,
   "metadata": {},
   "outputs": [],
   "source": [
    "y_train_pred = regressor.predict(X_train)\n",
    "y_test_pred = regressor.predict(X_test)"
   ]
  },
  {
   "cell_type": "code",
   "execution_count": 27,
   "metadata": {},
   "outputs": [
    {
     "data": {
      "text/html": [
       "<div>\n",
       "<style scoped>\n",
       "    .dataframe tbody tr th:only-of-type {\n",
       "        vertical-align: middle;\n",
       "    }\n",
       "\n",
       "    .dataframe tbody tr th {\n",
       "        vertical-align: top;\n",
       "    }\n",
       "\n",
       "    .dataframe thead th {\n",
       "        text-align: right;\n",
       "    }\n",
       "</style>\n",
       "<table border=\"1\" class=\"dataframe\">\n",
       "  <thead>\n",
       "    <tr style=\"text-align: right;\">\n",
       "      <th></th>\n",
       "      <th>MAE</th>\n",
       "      <th>MSE</th>\n",
       "      <th>MAPE</th>\n",
       "    </tr>\n",
       "  </thead>\n",
       "  <tbody>\n",
       "    <tr>\n",
       "      <th>Train</th>\n",
       "      <td>0.002403</td>\n",
       "      <td>0.018787</td>\n",
       "      <td>0.013026</td>\n",
       "    </tr>\n",
       "    <tr>\n",
       "      <th>Test</th>\n",
       "      <td>0.049057</td>\n",
       "      <td>0.026656</td>\n",
       "      <td>0.164524</td>\n",
       "    </tr>\n",
       "  </tbody>\n",
       "</table>\n",
       "</div>"
      ],
      "text/plain": [
       "            MAE       MSE      MAPE\n",
       "Train  0.002403  0.018787  0.013026\n",
       "Test   0.049057  0.026656  0.164524"
      ]
     },
     "execution_count": 27,
     "metadata": {},
     "output_type": "execute_result"
    }
   ],
   "source": [
    "f_metrics(y_train, y_train_pred, y_test, y_test_pred)"
   ]
  }
 ],
 "metadata": {
  "kernelspec": {
   "display_name": "Python 3 (ipykernel)",
   "language": "python",
   "name": "python3"
  },
  "language_info": {
   "codemirror_mode": {
    "name": "ipython",
    "version": 3
   },
   "file_extension": ".py",
   "mimetype": "text/x-python",
   "name": "python",
   "nbconvert_exporter": "python",
   "pygments_lexer": "ipython3",
   "version": "3.9.12"
  },
  "toc": {
   "base_numbering": 1,
   "nav_menu": {},
   "number_sections": true,
   "sideBar": true,
   "skip_h1_title": false,
   "title_cell": "Table of Contents",
   "title_sidebar": "Contents",
   "toc_cell": false,
   "toc_position": {},
   "toc_section_display": true,
   "toc_window_display": false
  }
 },
 "nbformat": 4,
 "nbformat_minor": 4
}
