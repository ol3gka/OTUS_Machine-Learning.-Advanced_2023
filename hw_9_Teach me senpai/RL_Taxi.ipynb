{
  "nbformat": 4,
  "nbformat_minor": 0,
  "metadata": {
    "colab": {
      "provenance": [],
      "include_colab_link": true
    },
    "kernelspec": {
      "name": "python3",
      "display_name": "Python 3"
    }
  },
  "cells": [
    {
      "cell_type": "markdown",
      "metadata": {
        "id": "view-in-github",
        "colab_type": "text"
      },
      "source": [
        "<a href=\"https://colab.research.google.com/github/ol3gka/OTUS_Machine-Learning.-Advanced_2023/blob/main/hw_9_Teach%20me%20senpai/RL_Taxi.ipynb\" target=\"_parent\"><img src=\"https://colab.research.google.com/assets/colab-badge.svg\" alt=\"Open In Colab\"/></a>"
      ]
    },
    {
      "cell_type": "markdown",
      "source": [
        "# Reinforcement learning на примере среды Taxi\n",
        "Q-Learning алгоритм"
      ],
      "metadata": {
        "id": "PJXpWo2wOCmA"
      }
    },
    {
      "cell_type": "code",
      "metadata": {
        "id": "Bx1OvOOywHHX",
        "colab": {
          "base_uri": "https://localhost:8080/"
        },
        "outputId": "1d1210a4-68ad-4d07-87d5-2389e9c838bb"
      },
      "source": [
        "!pip install gymnasium\n",
        "\n",
        "import random\n",
        "import numpy as np\n",
        "from tqdm import tqdm\n",
        "import gymnasium as gym"
      ],
      "execution_count": 29,
      "outputs": [
        {
          "output_type": "stream",
          "name": "stdout",
          "text": [
            "Requirement already satisfied: gymnasium in /usr/local/lib/python3.10/dist-packages (0.29.1)\n",
            "Requirement already satisfied: numpy>=1.21.0 in /usr/local/lib/python3.10/dist-packages (from gymnasium) (1.23.5)\n",
            "Requirement already satisfied: cloudpickle>=1.2.0 in /usr/local/lib/python3.10/dist-packages (from gymnasium) (2.2.1)\n",
            "Requirement already satisfied: typing-extensions>=4.3.0 in /usr/local/lib/python3.10/dist-packages (from gymnasium) (4.5.0)\n",
            "Requirement already satisfied: farama-notifications>=0.0.1 in /usr/local/lib/python3.10/dist-packages (from gymnasium) (0.0.4)\n"
          ]
        }
      ]
    },
    {
      "cell_type": "code",
      "source": [
        "def epsilon_greedy_policy(Q, state, epsilon):\n",
        "  \"\"\"\n",
        "  if random number > greater than epsilon --> exploitation; # else --> exploration\n",
        "  \"\"\"\n",
        "  if(random.uniform(0,1) > epsilon):\n",
        "    return np.argmax(Q[state])\n",
        "  else:\n",
        "    return env.action_space.sample()"
      ],
      "metadata": {
        "id": "cs5IBXO_ZYrn"
      },
      "execution_count": null,
      "outputs": []
    },
    {
      "cell_type": "markdown",
      "metadata": {
        "id": "20tSdDbxxK_H"
      },
      "source": [
        "environment:\n",
        "- 5x5 grid\n",
        "- Taxi spawned randomly in a square.\n",
        "- The passenger is spawned randomly in one of the 4 possible locations (R, B, G, Y) and wishes to go in one of the 4 possibles locations\n",
        "\n",
        "reward system:\n",
        "- -1 for each timestep\n",
        "- +20 for successfully deliver the passenger\n",
        "- -10 for illegal actions (pickup or putdown the passenger at the outside of the destination)."
      ]
    },
    {
      "cell_type": "code",
      "source": [
        "# инициализируем среду\n",
        "env = gym.make(\"Taxi-v3\", render_mode='ansi')\n",
        "\n",
        "env.reset()\n",
        "print(env.render())"
      ],
      "metadata": {
        "colab": {
          "base_uri": "https://localhost:8080/"
        },
        "id": "Tmx-8KxnRa8n",
        "outputId": "c80167cb-bc78-4cb1-827f-c91dda922464"
      },
      "execution_count": 7,
      "outputs": [
        {
          "output_type": "stream",
          "name": "stdout",
          "text": [
            "+---------+\n",
            "|R: | : :\u001b[35mG\u001b[0m|\n",
            "| : | : : |\n",
            "| : : : : |\n",
            "| |\u001b[43m \u001b[0m: | : |\n",
            "|Y| : |\u001b[34;1mB\u001b[0m: |\n",
            "+---------+\n",
            "\n",
            "\n"
          ]
        }
      ]
    },
    {
      "cell_type": "code",
      "metadata": {
        "id": "aP9i7HRUxKaO",
        "colab": {
          "base_uri": "https://localhost:8080/"
        },
        "outputId": "a5733b29-c7b9-4349-c56a-4ef90b65c116"
      },
      "source": [
        "# инициализируем Q-table\n",
        "state_space, action_space = env.observation_space.n, env.action_space.n\n",
        "print(f\"Кол-во возможных\\n состояний: {state_space} \\n действий: {action_space}\")\n",
        "Q = np.zeros((state_space, action_space))\n",
        "print(Q, Q.shape)\n",
        "\n",
        "# инициализируем макропараметры\n",
        "total_episodes = int(5e4)\n",
        "total_test_episodes = int(1e4)\n",
        "max_steps = 200\n",
        "learning_rate = 0.01\n",
        "gamma = 0.99                  # Discounting rate\n",
        "\n",
        "# Exploration parameters\n",
        "epsilon = 1.0                 # Exploration rate\n",
        "max_epsilon = 1.0             # Exploration probability at start\n",
        "min_epsilon = 0.001           # Minimum exploration probability\n",
        "decay_rate = 0.01             # Exponential decay rate for exploration prob"
      ],
      "execution_count": 36,
      "outputs": [
        {
          "output_type": "stream",
          "name": "stdout",
          "text": [
            "Кол-во возможных\n",
            " состояний: 500 \n",
            " действий: 6\n",
            "[[0. 0. 0. 0. 0. 0.]\n",
            " [0. 0. 0. 0. 0. 0.]\n",
            " [0. 0. 0. 0. 0. 0.]\n",
            " ...\n",
            " [0. 0. 0. 0. 0. 0.]\n",
            " [0. 0. 0. 0. 0. 0.]\n",
            " [0. 0. 0. 0. 0. 0.]] (500, 6)\n"
          ]
        }
      ]
    },
    {
      "cell_type": "code",
      "metadata": {
        "id": "lWYibdun-uDO",
        "colab": {
          "base_uri": "https://localhost:8080/"
        },
        "outputId": "24f23d69-7059-48f4-90ae-bd25e38f1e8e"
      },
      "source": [
        " # обучаем агента\n",
        "for episode in tqdm(range(total_episodes)):\n",
        "    state, step, done = env.reset()[0], 0, False\n",
        "    epsilon = min_epsilon + (max_epsilon - min_epsilon)*np.exp(-decay_rate*episode)\n",
        "    for step in range(max_steps):\n",
        "        action = epsilon_greedy_policy(Q, state, epsilon)\n",
        "        new_state, reward, done, _, _ = env.step(action)\n",
        "        Q[state][action] = Q[state][action] + learning_rate * (reward + gamma *\n",
        "                                    np.max(Q[new_state]) - Q[state][action])\n",
        "        if done == True:\n",
        "            break\n",
        "        state = new_state"
      ],
      "execution_count": 37,
      "outputs": [
        {
          "output_type": "stream",
          "name": "stderr",
          "text": [
            "100%|██████████| 50000/50000 [01:08<00:00, 726.88it/s] \n"
          ]
        }
      ]
    },
    {
      "cell_type": "code",
      "metadata": {
        "id": "WlJYOh0yBHZO",
        "colab": {
          "base_uri": "https://localhost:8080/"
        },
        "outputId": "ff66ed38-41b8-4647-e852-14cb98d4c5f7"
      },
      "source": [
        "# прогоняем тестовые шаги и визуализируем выйгрышную стратегию\n",
        "rewards, frames, n_wins = [], [], 0\n",
        "for episode in tqdm(range(total_test_episodes)):\n",
        "    state, step, done, total_rewards  = env.reset()[0], 0, False, 0\n",
        "    for step in range(max_steps):\n",
        "        if episode == total_test_episodes - 1:\n",
        "            print(env.render())\n",
        "        action = np.argmax(Q[state][:])\n",
        "        new_state, reward, done, _, _ = env.step(action)\n",
        "        total_rewards += reward\n",
        "        if done:\n",
        "            n_wins += 1\n",
        "            rewards.append(total_rewards)\n",
        "            break\n",
        "        state = new_state\n",
        "env.close()\n"
      ],
      "execution_count": 46,
      "outputs": [
        {
          "output_type": "stream",
          "name": "stderr",
          "text": [
            "/usr/local/lib/python3.10/dist-packages/ipykernel/ipkernel.py:283: DeprecationWarning: `should_run_async` will not call `transform_cell` automatically in the future. Please pass the result to `transformed_cell` argument and any exception that happen during thetransform in `preprocessing_exc_tuple` in IPython 7.17 and above.\n",
            "  and should_run_async(code)\n",
            "100%|██████████| 10000/10000 [00:05<00:00, 1960.06it/s]"
          ]
        },
        {
          "output_type": "stream",
          "name": "stdout",
          "text": [
            "+---------+\n",
            "|R: | : :\u001b[35mG\u001b[0m|\n",
            "| : | : : |\n",
            "| : : : : |\n",
            "|\u001b[43m \u001b[0m| : | : |\n",
            "|\u001b[34;1mY\u001b[0m| : |B: |\n",
            "+---------+\n",
            "\n",
            "\n",
            "+---------+\n",
            "|R: | : :\u001b[35mG\u001b[0m|\n",
            "| : | : : |\n",
            "| : : : : |\n",
            "| | : | : |\n",
            "|\u001b[34;1m\u001b[43mY\u001b[0m\u001b[0m| : |B: |\n",
            "+---------+\n",
            "  (South)\n",
            "\n",
            "+---------+\n",
            "|R: | : :\u001b[35mG\u001b[0m|\n",
            "| : | : : |\n",
            "| : : : : |\n",
            "| | : | : |\n",
            "|\u001b[42mY\u001b[0m| : |B: |\n",
            "+---------+\n",
            "  (Pickup)\n",
            "\n",
            "+---------+\n",
            "|R: | : :\u001b[35mG\u001b[0m|\n",
            "| : | : : |\n",
            "| : : : : |\n",
            "|\u001b[42m_\u001b[0m| : | : |\n",
            "|Y| : |B: |\n",
            "+---------+\n",
            "  (North)\n",
            "\n",
            "+---------+\n",
            "|R: | : :\u001b[35mG\u001b[0m|\n",
            "| : | : : |\n",
            "|\u001b[42m_\u001b[0m: : : : |\n",
            "| | : | : |\n",
            "|Y| : |B: |\n",
            "+---------+\n",
            "  (North)\n",
            "\n",
            "+---------+\n",
            "|R: | : :\u001b[35mG\u001b[0m|\n",
            "| : | : : |\n",
            "| :\u001b[42m_\u001b[0m: : : |\n",
            "| | : | : |\n",
            "|Y| : |B: |\n",
            "+---------+\n",
            "  (East)\n",
            "\n",
            "+---------+\n",
            "|R: | : :\u001b[35mG\u001b[0m|\n",
            "| : | : : |\n",
            "| : :\u001b[42m_\u001b[0m: : |\n",
            "| | : | : |\n",
            "|Y| : |B: |\n",
            "+---------+\n",
            "  (East)\n",
            "\n",
            "+---------+\n",
            "|R: | : :\u001b[35mG\u001b[0m|\n",
            "| : | : : |\n",
            "| : : :\u001b[42m_\u001b[0m: |\n",
            "| | : | : |\n",
            "|Y| : |B: |\n",
            "+---------+\n",
            "  (East)\n",
            "\n",
            "+---------+\n",
            "|R: | : :\u001b[35mG\u001b[0m|\n",
            "| : | : : |\n",
            "| : : : :\u001b[42m_\u001b[0m|\n",
            "| | : | : |\n",
            "|Y| : |B: |\n",
            "+---------+\n",
            "  (East)\n",
            "\n",
            "+---------+\n",
            "|R: | : :\u001b[35mG\u001b[0m|\n",
            "| : | : :\u001b[42m_\u001b[0m|\n",
            "| : : : : |\n",
            "| | : | : |\n",
            "|Y| : |B: |\n",
            "+---------+\n",
            "  (North)\n",
            "\n",
            "+---------+\n",
            "|R: | : :\u001b[35m\u001b[42mG\u001b[0m\u001b[0m|\n",
            "| : | : : |\n",
            "| : : : : |\n",
            "| | : | : |\n",
            "|Y| : |B: |\n",
            "+---------+\n",
            "  (North)\n",
            "\n"
          ]
        },
        {
          "output_type": "stream",
          "name": "stderr",
          "text": [
            "\n"
          ]
        }
      ]
    },
    {
      "cell_type": "code",
      "source": [
        "# оценка оптимальной стратегии на тестовых иттерациях\n",
        "print (f\"средняя награда за все игры: {str(sum(rewards)/total_test_episodes)}\\nколичество побед: {n_wins}\")"
      ],
      "metadata": {
        "id": "h0v8jorEbdi2",
        "outputId": "4dbbbac8-0f1b-42c4-ccc7-1b861388553d",
        "colab": {
          "base_uri": "https://localhost:8080/"
        }
      },
      "execution_count": 47,
      "outputs": [
        {
          "output_type": "stream",
          "name": "stdout",
          "text": [
            "средняя награда за все игры: 7.9407\n",
            "количество побед: 10000\n"
          ]
        }
      ]
    }
  ]
}