{
 "cells": [
  {
   "cell_type": "code",
   "execution_count": 1,
   "id": "2e29bab4-2fd1-4af7-a1e2-5ce73bdee5cf",
   "metadata": {},
   "outputs": [],
   "source": [
    "import surprise\n",
    "import json\n",
    "import pandas as pd\n",
    "import numpy as np\n",
    "import os\n",
    "import random\n",
    "\n",
    "my_seed = 2007\n",
    "random.seed(my_seed)\n",
    "np.random.seed(my_seed)"
   ]
  },
  {
   "cell_type": "code",
   "execution_count": 2,
   "id": "06ef7fba-658e-417a-8565-5dfba8616560",
   "metadata": {},
   "outputs": [],
   "source": [
    "cwd = os.getcwd()\n",
    "RAW_DATA_PATH = os.path.join(cwd, \"Gift_Cards.csv\")\n",
    "data = pd.read_csv(RAW_DATA_PATH, names=['item', 'user', 'rating', 'timestamp'], parse_dates=['timestamp'],  dayfirst=True)"
   ]
  },
  {
   "cell_type": "markdown",
   "id": "1ed80087-ccf3-4c73-908a-a0d3f1932ce2",
   "metadata": {},
   "source": [
    "# Preprocess and EDA"
   ]
  },
  {
   "cell_type": "code",
   "execution_count": 3,
   "id": "80294db7-e02d-49bc-87cb-4dbe29342d2d",
   "metadata": {},
   "outputs": [],
   "source": [
    "data['timestamp'] = pd.to_datetime(data['timestamp'], unit='s')"
   ]
  },
  {
   "cell_type": "code",
   "execution_count": 4,
   "id": "b4091782-a92f-482a-892b-928db008ec7b",
   "metadata": {},
   "outputs": [
    {
     "data": {
      "text/html": [
       "<div>\n",
       "<style scoped>\n",
       "    .dataframe tbody tr th:only-of-type {\n",
       "        vertical-align: middle;\n",
       "    }\n",
       "\n",
       "    .dataframe tbody tr th {\n",
       "        vertical-align: top;\n",
       "    }\n",
       "\n",
       "    .dataframe thead th {\n",
       "        text-align: right;\n",
       "    }\n",
       "</style>\n",
       "<table border=\"1\" class=\"dataframe\">\n",
       "  <thead>\n",
       "    <tr style=\"text-align: right;\">\n",
       "      <th></th>\n",
       "      <th>item</th>\n",
       "      <th>user</th>\n",
       "      <th>rating</th>\n",
       "      <th>timestamp</th>\n",
       "    </tr>\n",
       "  </thead>\n",
       "  <tbody>\n",
       "    <tr>\n",
       "      <th>0</th>\n",
       "      <td>B001GXRQW0</td>\n",
       "      <td>APV13CM0919JD</td>\n",
       "      <td>1.0</td>\n",
       "      <td>2008-12-19</td>\n",
       "    </tr>\n",
       "    <tr>\n",
       "      <th>1</th>\n",
       "      <td>B001GXRQW0</td>\n",
       "      <td>A3G8U1G1V082SN</td>\n",
       "      <td>5.0</td>\n",
       "      <td>2008-12-17</td>\n",
       "    </tr>\n",
       "    <tr>\n",
       "      <th>2</th>\n",
       "      <td>B001GXRQW0</td>\n",
       "      <td>A11T2Q0EVTUWP</td>\n",
       "      <td>5.0</td>\n",
       "      <td>2008-12-17</td>\n",
       "    </tr>\n",
       "    <tr>\n",
       "      <th>3</th>\n",
       "      <td>B001GXRQW0</td>\n",
       "      <td>A9YKGBH3SV22C</td>\n",
       "      <td>5.0</td>\n",
       "      <td>2008-12-17</td>\n",
       "    </tr>\n",
       "    <tr>\n",
       "      <th>4</th>\n",
       "      <td>B001GXRQW0</td>\n",
       "      <td>A34WZIHVF3OKOL</td>\n",
       "      <td>1.0</td>\n",
       "      <td>2008-12-17</td>\n",
       "    </tr>\n",
       "    <tr>\n",
       "      <th>...</th>\n",
       "      <td>...</td>\n",
       "      <td>...</td>\n",
       "      <td>...</td>\n",
       "      <td>...</td>\n",
       "    </tr>\n",
       "    <tr>\n",
       "      <th>147189</th>\n",
       "      <td>B01H5PPJT4</td>\n",
       "      <td>A2K9WVQW9TLWNK</td>\n",
       "      <td>5.0</td>\n",
       "      <td>2018-09-15</td>\n",
       "    </tr>\n",
       "    <tr>\n",
       "      <th>147190</th>\n",
       "      <td>B01H5PPJT4</td>\n",
       "      <td>A149ALSR6TPGF7</td>\n",
       "      <td>4.0</td>\n",
       "      <td>2018-09-07</td>\n",
       "    </tr>\n",
       "    <tr>\n",
       "      <th>147191</th>\n",
       "      <td>B01H5PPJT4</td>\n",
       "      <td>A2Q066NZCQSCOR</td>\n",
       "      <td>5.0</td>\n",
       "      <td>2018-08-29</td>\n",
       "    </tr>\n",
       "    <tr>\n",
       "      <th>147192</th>\n",
       "      <td>B01H5PPJT4</td>\n",
       "      <td>A1KJLWCW7XBS8I</td>\n",
       "      <td>5.0</td>\n",
       "      <td>2018-08-18</td>\n",
       "    </tr>\n",
       "    <tr>\n",
       "      <th>147193</th>\n",
       "      <td>B01H5PPJT4</td>\n",
       "      <td>ANABUB0FRZXRM</td>\n",
       "      <td>5.0</td>\n",
       "      <td>2018-08-14</td>\n",
       "    </tr>\n",
       "  </tbody>\n",
       "</table>\n",
       "<p>147194 rows × 4 columns</p>\n",
       "</div>"
      ],
      "text/plain": [
       "              item            user  rating  timestamp\n",
       "0       B001GXRQW0   APV13CM0919JD     1.0 2008-12-19\n",
       "1       B001GXRQW0  A3G8U1G1V082SN     5.0 2008-12-17\n",
       "2       B001GXRQW0   A11T2Q0EVTUWP     5.0 2008-12-17\n",
       "3       B001GXRQW0   A9YKGBH3SV22C     5.0 2008-12-17\n",
       "4       B001GXRQW0  A34WZIHVF3OKOL     1.0 2008-12-17\n",
       "...            ...             ...     ...        ...\n",
       "147189  B01H5PPJT4  A2K9WVQW9TLWNK     5.0 2018-09-15\n",
       "147190  B01H5PPJT4  A149ALSR6TPGF7     4.0 2018-09-07\n",
       "147191  B01H5PPJT4  A2Q066NZCQSCOR     5.0 2018-08-29\n",
       "147192  B01H5PPJT4  A1KJLWCW7XBS8I     5.0 2018-08-18\n",
       "147193  B01H5PPJT4   ANABUB0FRZXRM     5.0 2018-08-14\n",
       "\n",
       "[147194 rows x 4 columns]"
      ]
     },
     "execution_count": 4,
     "metadata": {},
     "output_type": "execute_result"
    }
   ],
   "source": [
    "data"
   ]
  },
  {
   "cell_type": "code",
   "execution_count": 5,
   "id": "b7f22fa6-4b39-4fcb-aa3f-b918d93ec721",
   "metadata": {},
   "outputs": [
    {
     "name": "stdout",
     "output_type": "stream",
     "text": [
      "<class 'pandas.core.frame.DataFrame'>\n",
      "RangeIndex: 147194 entries, 0 to 147193\n",
      "Data columns (total 4 columns):\n",
      " #   Column     Non-Null Count   Dtype         \n",
      "---  ------     --------------   -----         \n",
      " 0   item       147194 non-null  object        \n",
      " 1   user       147194 non-null  object        \n",
      " 2   rating     147194 non-null  float64       \n",
      " 3   timestamp  147194 non-null  datetime64[ns]\n",
      "dtypes: datetime64[ns](1), float64(1), object(2)\n",
      "memory usage: 4.5+ MB\n"
     ]
    }
   ],
   "source": [
    "data.info()"
   ]
  },
  {
   "cell_type": "code",
   "execution_count": 6,
   "id": "a7dad963-f97f-4384-9feb-5f3b624d3de0",
   "metadata": {},
   "outputs": [
    {
     "data": {
      "text/plain": [
       "5.0    126689\n",
       "4.0      8700\n",
       "1.0      7165\n",
       "3.0      2996\n",
       "2.0      1644\n",
       "Name: rating, dtype: int64"
      ]
     },
     "execution_count": 6,
     "metadata": {},
     "output_type": "execute_result"
    }
   ],
   "source": [
    "data['rating'].value_counts()"
   ]
  },
  {
   "cell_type": "code",
   "execution_count": 7,
   "id": "208d8c73-becd-4eb4-a139-d43bec05a7d7",
   "metadata": {},
   "outputs": [
    {
     "data": {
      "text/plain": [
       "128877"
      ]
     },
     "execution_count": 7,
     "metadata": {},
     "output_type": "execute_result"
    }
   ],
   "source": [
    "len(data['user'].unique())"
   ]
  },
  {
   "cell_type": "code",
   "execution_count": 8,
   "id": "7e4b82ec-a092-4a6e-809f-b0928d790190",
   "metadata": {},
   "outputs": [
    {
     "data": {
      "text/plain": [
       "<AxesSubplot:>"
      ]
     },
     "execution_count": 8,
     "metadata": {},
     "output_type": "execute_result"
    },
    {
     "data": {
      "image/png": "[encoded data removed]",
      "text/plain": [
       "<Figure size 640x480 with 1 Axes>"
      ]
     },
     "metadata": {},
     "output_type": "display_data"
    }
   ],
   "source": [
    "data['rating'].hist(bins=9)"
   ]
  },
  {
   "cell_type": "code",
   "execution_count": 9,
   "id": "dbd8783d-442f-42b5-a80d-b85d4519bb06",
   "metadata": {},
   "outputs": [
    {
     "data": {
      "text/html": [
       "<div>\n",
       "<style scoped>\n",
       "    .dataframe tbody tr th:only-of-type {\n",
       "        vertical-align: middle;\n",
       "    }\n",
       "\n",
       "    .dataframe tbody tr th {\n",
       "        vertical-align: top;\n",
       "    }\n",
       "\n",
       "    .dataframe thead th {\n",
       "        text-align: right;\n",
       "    }\n",
       "</style>\n",
       "<table border=\"1\" class=\"dataframe\">\n",
       "  <thead>\n",
       "    <tr style=\"text-align: right;\">\n",
       "      <th></th>\n",
       "      <th>count</th>\n",
       "      <th>mean</th>\n",
       "      <th>std</th>\n",
       "    </tr>\n",
       "    <tr>\n",
       "      <th>item</th>\n",
       "      <th></th>\n",
       "      <th></th>\n",
       "      <th></th>\n",
       "    </tr>\n",
       "  </thead>\n",
       "  <tbody>\n",
       "    <tr>\n",
       "      <th>1619923009</th>\n",
       "      <td>4</td>\n",
       "      <td>4.750000</td>\n",
       "      <td>0.500000</td>\n",
       "    </tr>\n",
       "    <tr>\n",
       "      <th>B001BKEWF2</th>\n",
       "      <td>1</td>\n",
       "      <td>5.000000</td>\n",
       "      <td>NaN</td>\n",
       "    </tr>\n",
       "    <tr>\n",
       "      <th>B001GXRQW0</th>\n",
       "      <td>706</td>\n",
       "      <td>4.090652</td>\n",
       "      <td>1.533641</td>\n",
       "    </tr>\n",
       "    <tr>\n",
       "      <th>B001H53QE4</th>\n",
       "      <td>8</td>\n",
       "      <td>3.625000</td>\n",
       "      <td>1.597990</td>\n",
       "    </tr>\n",
       "    <tr>\n",
       "      <th>B001H53QEO</th>\n",
       "      <td>3</td>\n",
       "      <td>3.000000</td>\n",
       "      <td>1.732051</td>\n",
       "    </tr>\n",
       "  </tbody>\n",
       "</table>\n",
       "</div>"
      ],
      "text/plain": [
       "            count      mean       std\n",
       "item                                 \n",
       "1619923009      4  4.750000  0.500000\n",
       "B001BKEWF2      1  5.000000       NaN\n",
       "B001GXRQW0    706  4.090652  1.533641\n",
       "B001H53QE4      8  3.625000  1.597990\n",
       "B001H53QEO      3  3.000000  1.732051"
      ]
     },
     "execution_count": 9,
     "metadata": {},
     "output_type": "execute_result"
    }
   ],
   "source": [
    "ratings_item_summary = data.groupby('item')['rating'].agg(['count', 'mean', 'std'])\n",
    "# ratings_item_summary.sort_values('count', ascending=False).head(10)\n",
    "ratings_item_summary.head(5)"
   ]
  },
  {
   "cell_type": "code",
   "execution_count": 10,
   "id": "63244eb7-21c1-4f4e-a57a-79d5e28848c2",
   "metadata": {},
   "outputs": [
    {
     "data": {
      "text/plain": [
       "<AxesSubplot:>"
      ]
     },
     "execution_count": 10,
     "metadata": {},
     "output_type": "execute_result"
    },
    {
     "data": {
      "image/png": "[encoded data removed]",
      "text/plain": [
       "<Figure size 640x480 with 1 Axes>"
      ]
     },
     "metadata": {},
     "output_type": "display_data"
    }
   ],
   "source": [
    "ratings_item_summary.sort_values(by='count')['count'].hist(bins=30)"
   ]
  },
  {
   "cell_type": "code",
   "execution_count": 11,
   "id": "968744a8-a849-4c37-8d3a-8ebc5fcc4352",
   "metadata": {},
   "outputs": [
    {
     "data": {
      "text/html": [
       "<div>\n",
       "<style scoped>\n",
       "    .dataframe tbody tr th:only-of-type {\n",
       "        vertical-align: middle;\n",
       "    }\n",
       "\n",
       "    .dataframe tbody tr th {\n",
       "        vertical-align: top;\n",
       "    }\n",
       "\n",
       "    .dataframe thead th {\n",
       "        text-align: right;\n",
       "    }\n",
       "</style>\n",
       "<table border=\"1\" class=\"dataframe\">\n",
       "  <thead>\n",
       "    <tr style=\"text-align: right;\">\n",
       "      <th></th>\n",
       "      <th>count</th>\n",
       "      <th>mean</th>\n",
       "      <th>std</th>\n",
       "    </tr>\n",
       "    <tr>\n",
       "      <th>user</th>\n",
       "      <th></th>\n",
       "      <th></th>\n",
       "      <th></th>\n",
       "    </tr>\n",
       "  </thead>\n",
       "  <tbody>\n",
       "    <tr>\n",
       "      <th>A0095461J2PRARAMDCI</th>\n",
       "      <td>1</td>\n",
       "      <td>1.0</td>\n",
       "      <td>NaN</td>\n",
       "    </tr>\n",
       "    <tr>\n",
       "      <th>A0097695AYLE91ZX89FB</th>\n",
       "      <td>1</td>\n",
       "      <td>5.0</td>\n",
       "      <td>NaN</td>\n",
       "    </tr>\n",
       "    <tr>\n",
       "      <th>A01423305PUDQS2VV7QX</th>\n",
       "      <td>1</td>\n",
       "      <td>5.0</td>\n",
       "      <td>NaN</td>\n",
       "    </tr>\n",
       "    <tr>\n",
       "      <th>A0151652BYTK45B15T2R</th>\n",
       "      <td>1</td>\n",
       "      <td>5.0</td>\n",
       "      <td>NaN</td>\n",
       "    </tr>\n",
       "    <tr>\n",
       "      <th>A0155528TCZ6R6URPU31</th>\n",
       "      <td>1</td>\n",
       "      <td>5.0</td>\n",
       "      <td>NaN</td>\n",
       "    </tr>\n",
       "  </tbody>\n",
       "</table>\n",
       "</div>"
      ],
      "text/plain": [
       "                      count  mean  std\n",
       "user                                  \n",
       "A0095461J2PRARAMDCI       1   1.0  NaN\n",
       "A0097695AYLE91ZX89FB      1   5.0  NaN\n",
       "A01423305PUDQS2VV7QX      1   5.0  NaN\n",
       "A0151652BYTK45B15T2R      1   5.0  NaN\n",
       "A0155528TCZ6R6URPU31      1   5.0  NaN"
      ]
     },
     "execution_count": 11,
     "metadata": {},
     "output_type": "execute_result"
    }
   ],
   "source": [
    "ratings_user_summary = data.groupby('user')['rating'].agg(['count', 'mean', 'std'])\n",
    "ratings_user_summary.head(5)"
   ]
  },
  {
   "cell_type": "code",
   "execution_count": 12,
   "id": "80e84485-0a15-431a-81ec-60c2169d2c4b",
   "metadata": {},
   "outputs": [
    {
     "data": {
      "text/plain": [
       "<AxesSubplot:>"
      ]
     },
     "execution_count": 12,
     "metadata": {},
     "output_type": "execute_result"
    },
    {
     "data": {
      "image/png": "[encoded data removed]",
      "text/plain": [
       "<Figure size 640x480 with 1 Axes>"
      ]
     },
     "metadata": {},
     "output_type": "display_data"
    }
   ],
   "source": [
    "ratings_user_summary.sort_values(by='count')['count'].hist(bins=30)"
   ]
  },
  {
   "cell_type": "code",
   "execution_count": 13,
   "id": "91fb3a86-e922-46cd-af20-12ca2c0a577e",
   "metadata": {},
   "outputs": [],
   "source": [
    "reader = surprise.Reader(line_format='user item rating timestamp', rating_scale=(1, 5))"
   ]
  },
  {
   "cell_type": "code",
   "execution_count": 14,
   "id": "86da5a76-bf0e-4208-ba28-4cf942f7cbaf",
   "metadata": {},
   "outputs": [],
   "source": [
    "dataset = surprise.Dataset.load_from_df(data[[\"user\", \"item\", \"rating\"]], reader)"
   ]
  },
  {
   "cell_type": "code",
   "execution_count": 15,
   "id": "6c84c2fe-9b53-4a72-a438-97518a1df339",
   "metadata": {},
   "outputs": [],
   "source": [
    "# https://surprise.readthedocs.io/en/stable/FAQ.html#unbiased-estimate-after-tuning\n",
    "# If your goal is to tune the parameters of an algorithm, you may want to spare a bit of data to have an unbiased estimation of its performances. \n",
    "# For instance you may want to split your data into two sets A and B. \n",
    "# A is used for parameter tuning using grid search, and B is used for unbiased estimation. \n",
    "\n",
    "raw_ratings = dataset.raw_ratings  # retrieve the raw data\n",
    "# мы не шафлим рейтинги, на а обучаем макропарамметры грид серчем\n",
    "# A = 75% of the data, B = 25% of the data\n",
    "threshold  = int(0.75 * len(raw_ratings))\n",
    "A_raw_ratings = raw_ratings[:threshold]\n",
    "B_raw_ratings = raw_ratings[threshold:]\n",
    "\n",
    "# Create train and test set\n",
    "dataset.raw_ratings = A_raw_ratings    # data is now the set A"
   ]
  },
  {
   "cell_type": "code",
   "execution_count": 16,
   "id": "a74d236d-748a-4ad7-9f57-778ddc2bc017",
   "metadata": {},
   "outputs": [],
   "source": [
    "# trainset, testset = surprise.model_selection.train_test_split(dataset, test_size=0.25, shuffle=False)"
   ]
  },
  {
   "cell_type": "markdown",
   "id": "a2fb415a-2c23-4518-8f0f-f0ff34745b12",
   "metadata": {},
   "source": [
    "# ML\n",
    "## train"
   ]
  },
  {
   "cell_type": "code",
   "execution_count": 17,
   "id": "c7289d39-ecee-46c7-b51f-8b25e063d351",
   "metadata": {},
   "outputs": [],
   "source": [
    "param_grid = {\n",
    "    \"n_factors\": [25, 40, 55],  # default 100\n",
    "    \"n_epochs\": [10, 20],  # default 20\n",
    "    \"lr_all\": [0.005, 0.025, 0.125],  # learning rate for all parameters. Default 0.005\n",
    "    \"reg_all\": [0.08, 0.16, 0.32],  # regularization term for all parameters. Default 0.02\n",
    "}"
   ]
  },
  {
   "cell_type": "code",
   "execution_count": 18,
   "id": "551fff0b-0e52-469b-81de-0bb744ace6ae",
   "metadata": {},
   "outputs": [],
   "source": [
    "# param_grid = {\n",
    "#     \"n_factors\": [25, ],  # default 100\n",
    "#     \"n_epochs\": [10, ],  # default 20\n",
    "#     \"lr_all\": [0.005, 0.025, ],  # learning rate for all parameters. Default 0.005\n",
    "#     \"reg_all\": [0.08, 0.16, ],  # regularization term for all parameters. Default 0.02\n",
    "# }"
   ]
  },
  {
   "cell_type": "code",
   "execution_count": 19,
   "id": "a6273456-18ed-435b-a553-8562e30a5b52",
   "metadata": {},
   "outputs": [],
   "source": [
    "gs_svdpp = surprise.model_selection.GridSearchCV(surprise.SVDpp, param_grid, measures=[\"rmse\", \"mae\"], cv=3, refit=True, n_jobs=-1, joblib_verbose=1)"
   ]
  },
  {
   "cell_type": "code",
   "execution_count": 20,
   "id": "45525fe0-e540-4fac-ba9e-5b47da7a1f94",
   "metadata": {},
   "outputs": [
    {
     "name": "stderr",
     "output_type": "stream",
     "text": [
      "[Parallel(n_jobs=-1)]: Using backend LokyBackend with 12 concurrent workers.\n",
      "[Parallel(n_jobs=-1)]: Done  26 tasks      | elapsed:    7.6s\n",
      "[Parallel(n_jobs=-1)]: Done 162 out of 162 | elapsed:   38.0s finished\n"
     ]
    },
    {
     "name": "stdout",
     "output_type": "stream",
     "text": [
      "CPU times: total: 34.2 s\n",
      "Wall time: 40.1 s\n"
     ]
    }
   ],
   "source": [
    "%%time\n",
    "gs_svdpp.fit(dataset)"
   ]
  },
  {
   "cell_type": "code",
   "execution_count": 21,
   "id": "c3de470c-5c13-44f4-b472-8dc3498f525a",
   "metadata": {},
   "outputs": [
    {
     "data": {
      "text/html": [
       "<div>\n",
       "<style scoped>\n",
       "    .dataframe tbody tr th:only-of-type {\n",
       "        vertical-align: middle;\n",
       "    }\n",
       "\n",
       "    .dataframe tbody tr th {\n",
       "        vertical-align: top;\n",
       "    }\n",
       "\n",
       "    .dataframe thead th {\n",
       "        text-align: right;\n",
       "    }\n",
       "</style>\n",
       "<table border=\"1\" class=\"dataframe\">\n",
       "  <thead>\n",
       "    <tr style=\"text-align: right;\">\n",
       "      <th></th>\n",
       "      <th>split0_test_rmse</th>\n",
       "      <th>split1_test_rmse</th>\n",
       "      <th>split2_test_rmse</th>\n",
       "      <th>mean_test_rmse</th>\n",
       "      <th>std_test_rmse</th>\n",
       "      <th>rank_test_rmse</th>\n",
       "      <th>split0_test_mae</th>\n",
       "      <th>split1_test_mae</th>\n",
       "      <th>split2_test_mae</th>\n",
       "      <th>mean_test_mae</th>\n",
       "      <th>...</th>\n",
       "      <th>rank_test_mae</th>\n",
       "      <th>mean_fit_time</th>\n",
       "      <th>std_fit_time</th>\n",
       "      <th>mean_test_time</th>\n",
       "      <th>std_test_time</th>\n",
       "      <th>params</th>\n",
       "      <th>param_n_factors</th>\n",
       "      <th>param_n_epochs</th>\n",
       "      <th>param_lr_all</th>\n",
       "      <th>param_reg_all</th>\n",
       "    </tr>\n",
       "  </thead>\n",
       "  <tbody>\n",
       "    <tr>\n",
       "      <th>14</th>\n",
       "      <td>0.903136</td>\n",
       "      <td>0.923562</td>\n",
       "      <td>0.907210</td>\n",
       "      <td>0.911303</td>\n",
       "      <td>0.008827</td>\n",
       "      <td>1</td>\n",
       "      <td>0.531572</td>\n",
       "      <td>0.538601</td>\n",
       "      <td>0.531070</td>\n",
       "      <td>0.533748</td>\n",
       "      <td>...</td>\n",
       "      <td>32</td>\n",
       "      <td>1.271176</td>\n",
       "      <td>0.033247</td>\n",
       "      <td>0.425490</td>\n",
       "      <td>0.012675</td>\n",
       "      <td>{'n_factors': 25, 'n_epochs': 20, 'lr_all': 0....</td>\n",
       "      <td>25</td>\n",
       "      <td>20</td>\n",
       "      <td>0.025</td>\n",
       "      <td>0.32</td>\n",
       "    </tr>\n",
       "    <tr>\n",
       "      <th>32</th>\n",
       "      <td>0.903419</td>\n",
       "      <td>0.923575</td>\n",
       "      <td>0.907578</td>\n",
       "      <td>0.911524</td>\n",
       "      <td>0.008689</td>\n",
       "      <td>2</td>\n",
       "      <td>0.531246</td>\n",
       "      <td>0.538266</td>\n",
       "      <td>0.530756</td>\n",
       "      <td>0.533423</td>\n",
       "      <td>...</td>\n",
       "      <td>29</td>\n",
       "      <td>1.616667</td>\n",
       "      <td>0.013072</td>\n",
       "      <td>0.474334</td>\n",
       "      <td>0.032252</td>\n",
       "      <td>{'n_factors': 40, 'n_epochs': 20, 'lr_all': 0....</td>\n",
       "      <td>40</td>\n",
       "      <td>20</td>\n",
       "      <td>0.025</td>\n",
       "      <td>0.32</td>\n",
       "    </tr>\n",
       "    <tr>\n",
       "      <th>50</th>\n",
       "      <td>0.903453</td>\n",
       "      <td>0.923653</td>\n",
       "      <td>0.907641</td>\n",
       "      <td>0.911582</td>\n",
       "      <td>0.008705</td>\n",
       "      <td>3</td>\n",
       "      <td>0.531018</td>\n",
       "      <td>0.538038</td>\n",
       "      <td>0.530359</td>\n",
       "      <td>0.533138</td>\n",
       "      <td>...</td>\n",
       "      <td>27</td>\n",
       "      <td>1.975333</td>\n",
       "      <td>0.065351</td>\n",
       "      <td>0.462334</td>\n",
       "      <td>0.007362</td>\n",
       "      <td>{'n_factors': 55, 'n_epochs': 20, 'lr_all': 0....</td>\n",
       "      <td>55</td>\n",
       "      <td>20</td>\n",
       "      <td>0.025</td>\n",
       "      <td>0.32</td>\n",
       "    </tr>\n",
       "  </tbody>\n",
       "</table>\n",
       "<p>3 rows × 21 columns</p>\n",
       "</div>"
      ],
      "text/plain": [
       "    split0_test_rmse  split1_test_rmse  split2_test_rmse  mean_test_rmse  \\\n",
       "14          0.903136          0.923562          0.907210        0.911303   \n",
       "32          0.903419          0.923575          0.907578        0.911524   \n",
       "50          0.903453          0.923653          0.907641        0.911582   \n",
       "\n",
       "    std_test_rmse  rank_test_rmse  split0_test_mae  split1_test_mae  \\\n",
       "14       0.008827               1         0.531572         0.538601   \n",
       "32       0.008689               2         0.531246         0.538266   \n",
       "50       0.008705               3         0.531018         0.538038   \n",
       "\n",
       "    split2_test_mae  mean_test_mae  ...  rank_test_mae  mean_fit_time  \\\n",
       "14         0.531070       0.533748  ...             32       1.271176   \n",
       "32         0.530756       0.533423  ...             29       1.616667   \n",
       "50         0.530359       0.533138  ...             27       1.975333   \n",
       "\n",
       "    std_fit_time  mean_test_time  std_test_time  \\\n",
       "14      0.033247        0.425490       0.012675   \n",
       "32      0.013072        0.474334       0.032252   \n",
       "50      0.065351        0.462334       0.007362   \n",
       "\n",
       "                                               params param_n_factors  \\\n",
       "14  {'n_factors': 25, 'n_epochs': 20, 'lr_all': 0....              25   \n",
       "32  {'n_factors': 40, 'n_epochs': 20, 'lr_all': 0....              40   \n",
       "50  {'n_factors': 55, 'n_epochs': 20, 'lr_all': 0....              55   \n",
       "\n",
       "    param_n_epochs  param_lr_all  param_reg_all  \n",
       "14              20         0.025           0.32  \n",
       "32              20         0.025           0.32  \n",
       "50              20         0.025           0.32  \n",
       "\n",
       "[3 rows x 21 columns]"
      ]
     },
     "execution_count": 21,
     "metadata": {},
     "output_type": "execute_result"
    }
   ],
   "source": [
    "pd.DataFrame(gs_svdpp.cv_results).sort_values('rank_test_rmse').head(3)"
   ]
  },
  {
   "cell_type": "code",
   "execution_count": 22,
   "id": "cf6972fd-8602-4e64-a2bb-889e7e6aaac0",
   "metadata": {},
   "outputs": [
    {
     "name": "stdout",
     "output_type": "stream",
     "text": [
      "RMSE score 0.9113027540305102\n",
      "Best Parameters {'n_factors': 25, 'n_epochs': 20, 'lr_all': 0.025, 'reg_all': 0.32}\n"
     ]
    }
   ],
   "source": [
    "print(\"RMSE score\", gs_svdpp.best_score['rmse'])\n",
    "print(\"Best Parameters\", gs_svdpp.best_params['rmse'])"
   ]
  },
  {
   "cell_type": "code",
   "execution_count": 23,
   "id": "c57ec65d-3589-451e-9cad-70f6983f58eb",
   "metadata": {},
   "outputs": [],
   "source": [
    "algo = gs_svdpp.best_estimator[\"rmse\"]"
   ]
  },
  {
   "cell_type": "markdown",
   "id": "67bfef55-4c3f-4758-9378-3cd3623bc236",
   "metadata": {},
   "source": [
    "## predict"
   ]
  },
  {
   "cell_type": "code",
   "execution_count": 24,
   "id": "e5f799ad-132d-472d-95fc-463ceb74a1f3",
   "metadata": {},
   "outputs": [
    {
     "data": {
      "text/plain": [
       "<surprise.prediction_algorithms.matrix_factorization.SVDpp at 0x20b2206d070>"
      ]
     },
     "execution_count": 24,
     "metadata": {},
     "output_type": "execute_result"
    }
   ],
   "source": [
    "# retrain on the whole set A\n",
    "trainset = dataset.build_full_trainset()\n",
    "algo.fit(trainset)"
   ]
  },
  {
   "cell_type": "code",
   "execution_count": 25,
   "id": "c327ec83-54e0-400f-9aac-f2d042ab2924",
   "metadata": {},
   "outputs": [
    {
     "name": "stdout",
     "output_type": "stream",
     "text": [
      "Biased accuracy on A,   RMSE: 0.5699\n"
     ]
    },
    {
     "data": {
      "text/plain": [
       "0.5698532203714977"
      ]
     },
     "execution_count": 25,
     "metadata": {},
     "output_type": "execute_result"
    }
   ],
   "source": [
    "# Compute biased accuracy on A\n",
    "predictions = algo.test(trainset.build_testset())\n",
    "print(\"Biased accuracy on A,\", end=\"   \")\n",
    "surprise.accuracy.rmse(predictions)"
   ]
  },
  {
   "cell_type": "code",
   "execution_count": 26,
   "id": "5d852e3f-b7be-4d0b-8e3e-4c52e2349294",
   "metadata": {},
   "outputs": [
    {
     "name": "stdout",
     "output_type": "stream",
     "text": [
      "Unbiased accuracy on B, RMSE: 1.0159\n"
     ]
    },
    {
     "data": {
      "text/plain": [
       "1.0159319725050062"
      ]
     },
     "execution_count": 26,
     "metadata": {},
     "output_type": "execute_result"
    }
   ],
   "source": [
    "# Compute unbiased accuracy on B\n",
    "testset = dataset.construct_testset(B_raw_ratings)  # testset is now the set B\n",
    "predictions = algo.test(testset)\n",
    "print(\"Unbiased accuracy on B,\", end=\" \")\n",
    "surprise.accuracy.rmse(predictions)"
   ]
  },
  {
   "cell_type": "code",
   "execution_count": 27,
   "id": "695f5543-a553-49ef-b25e-820a883e9919",
   "metadata": {},
   "outputs": [
    {
     "data": {
      "text/plain": [
       "user\n",
       "A13H0YP0J8PM6V    39\n",
       "A1U1G73EI5IRZF    32\n",
       "A3OHGWD8LIDZ8K    26\n",
       "A1F2NKB1ZKMO2V    23\n",
       "A2RTTRR421J9KG    22\n",
       "                  ..\n",
       "A2BLZ3GKYYMBSW     1\n",
       "A2BLYJPMDGS2X2     1\n",
       "A2BLVPYSLR0KBP     1\n",
       "A2BLSCKD1AEWRT     1\n",
       "AZZZRGMYLGFLM      1\n",
       "Name: item, Length: 128877, dtype: int64"
      ]
     },
     "execution_count": 27,
     "metadata": {},
     "output_type": "execute_result"
    }
   ],
   "source": [
    "users_cnt = data.groupby('user').count()['item'].sort_values(ascending=False)\n",
    "users_cnt"
   ]
  },
  {
   "cell_type": "code",
   "execution_count": 28,
   "id": "d7b8ecdf-f48e-42b3-9c6b-4d72466c0dbb",
   "metadata": {},
   "outputs": [
    {
     "data": {
      "text/html": [
       "<div>\n",
       "<style scoped>\n",
       "    .dataframe tbody tr th:only-of-type {\n",
       "        vertical-align: middle;\n",
       "    }\n",
       "\n",
       "    .dataframe tbody tr th {\n",
       "        vertical-align: top;\n",
       "    }\n",
       "\n",
       "    .dataframe thead th {\n",
       "        text-align: right;\n",
       "    }\n",
       "</style>\n",
       "<table border=\"1\" class=\"dataframe\">\n",
       "  <thead>\n",
       "    <tr style=\"text-align: right;\">\n",
       "      <th></th>\n",
       "      <th>item</th>\n",
       "      <th>user</th>\n",
       "      <th>rating</th>\n",
       "      <th>timestamp</th>\n",
       "    </tr>\n",
       "  </thead>\n",
       "  <tbody>\n",
       "    <tr>\n",
       "      <th>46699</th>\n",
       "      <td>B0078EPRPE</td>\n",
       "      <td>A13H0YP0J8PM6V</td>\n",
       "      <td>5.0</td>\n",
       "      <td>2016-10-25</td>\n",
       "    </tr>\n",
       "    <tr>\n",
       "      <th>65665</th>\n",
       "      <td>B00AR51Y5I</td>\n",
       "      <td>A13H0YP0J8PM6V</td>\n",
       "      <td>5.0</td>\n",
       "      <td>2017-01-13</td>\n",
       "    </tr>\n",
       "    <tr>\n",
       "      <th>74016</th>\n",
       "      <td>B00BXLSZPM</td>\n",
       "      <td>A13H0YP0J8PM6V</td>\n",
       "      <td>5.0</td>\n",
       "      <td>2017-09-06</td>\n",
       "    </tr>\n",
       "  </tbody>\n",
       "</table>\n",
       "</div>"
      ],
      "text/plain": [
       "             item            user  rating  timestamp\n",
       "46699  B0078EPRPE  A13H0YP0J8PM6V     5.0 2016-10-25\n",
       "65665  B00AR51Y5I  A13H0YP0J8PM6V     5.0 2017-01-13\n",
       "74016  B00BXLSZPM  A13H0YP0J8PM6V     5.0 2017-09-06"
      ]
     },
     "execution_count": 28,
     "metadata": {},
     "output_type": "execute_result"
    }
   ],
   "source": [
    "data[data['user'] == 'A13H0YP0J8PM6V'].head(3)"
   ]
  },
  {
   "cell_type": "code",
   "execution_count": 29,
   "id": "b2b8ed90-e2af-4fbc-8769-bcea7e1e10c5",
   "metadata": {},
   "outputs": [
    {
     "name": "stdout",
     "output_type": "stream",
     "text": [
      "user: A13H0YP0J8PM6V item: B0078EPRPE r_ui = None   est = 4.81   {'was_impossible': False}\n"
     ]
    }
   ],
   "source": [
    "uid = 'A13H0YP0J8PM6V'\n",
    "iid = 'B0078EPRPE'\n",
    "\n",
    "pred = algo.predict(uid, iid, verbose=True)"
   ]
  },
  {
   "cell_type": "code",
   "execution_count": 30,
   "id": "ea4496d7-b0dd-4be3-abe8-f0bb36b9472c",
   "metadata": {},
   "outputs": [
    {
     "name": "stdout",
     "output_type": "stream",
     "text": [
      "CPU times: total: 26.3 s\n",
      "Wall time: 26.4 s\n"
     ]
    }
   ],
   "source": [
    "%%time\n",
    "testset = trainset.build_anti_testset()"
   ]
  },
  {
   "cell_type": "code",
   "execution_count": 31,
   "id": "bde9ebbf-292b-45df-8dcc-dc2de8d0c325",
   "metadata": {},
   "outputs": [
    {
     "data": {
      "text/plain": [
       "[('APV13CM0919JD', 'B002BSHDJK', 4.685882512794963),\n",
       " ('APV13CM0919JD', 'B002DN7XS4', 4.685882512794963),\n",
       " ('APV13CM0919JD', 'B002QFXC7U', 4.685882512794963),\n",
       " ('APV13CM0919JD', 'B002XNLC04', 4.685882512794963),\n",
       " ('APV13CM0919JD', 'B002YEWXZ0', 4.685882512794963),\n",
       " ('APV13CM0919JD', 'B00414Y7Y6', 4.685882512794963),\n",
       " ('APV13CM0919JD', 'B004KNWWO0', 4.685882512794963),\n",
       " ('APV13CM0919JD', 'B004KNWWUE', 4.685882512794963),\n",
       " ('APV13CM0919JD', 'B004KNWWT0', 4.685882512794963),\n",
       " ('APV13CM0919JD', 'B004KNWWQS', 4.685882512794963)]"
      ]
     },
     "execution_count": 31,
     "metadata": {},
     "output_type": "execute_result"
    }
   ],
   "source": [
    "testset[:10]"
   ]
  },
  {
   "cell_type": "code",
   "execution_count": 33,
   "id": "d37a9658-cec9-473a-a226-ad2e3225bf00",
   "metadata": {},
   "outputs": [],
   "source": [
    "# %%time\n",
    "# Делать полный прогноз - слишком долго так, как len(testset) = 57,144,047\n",
    "# predictions = algo.test(testset)\n",
    "\n",
    "# predictions[:10]"
   ]
  }
 ],
 "metadata": {
  "kernelspec": {
   "display_name": "Python 3 (ipykernel)",
   "language": "python",
   "name": "python3"
  },
  "language_info": {
   "codemirror_mode": {
    "name": "ipython",
    "version": 3
   },
   "file_extension": ".py",
   "mimetype": "text/x-python",
   "name": "python",
   "nbconvert_exporter": "python",
   "pygments_lexer": "ipython3",
   "version": "3.9.12"
  }
 },
 "nbformat": 4,
 "nbformat_minor": 5
}
